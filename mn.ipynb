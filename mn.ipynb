{
 "cells": [
  {
   "cell_type": "code",
   "execution_count": 1,
   "metadata": {},
   "outputs": [],
   "source": [
    "import numpy as np\n",
    "import matplotlib.pyplot as plt"
   ]
  },
  {
   "cell_type": "markdown",
   "metadata": {},
   "source": [
    "# M-N domain"
   ]
  },
  {
   "cell_type": "markdown",
   "metadata": {},
   "source": [
    "## section properties"
   ]
  },
  {
   "cell_type": "code",
   "execution_count": 2,
   "metadata": {},
   "outputs": [],
   "source": [
    "a=400 #mm, section height\n",
    "b=300 #mm, section width\n",
    "c=50 #mm, concrete cover\n",
    "d=a-c\n",
    "As1=1017 #mm^2, 4phi18, bottom rebar area\n",
    "As2=452 #mm^2, 4phi12, top rebar area"
   ]
  },
  {
   "cell_type": "markdown",
   "metadata": {},
   "source": [
    "## Materials"
   ]
  },
  {
   "cell_type": "code",
   "execution_count": 3,
   "metadata": {},
   "outputs": [],
   "source": [
    "#concrete\n",
    "fck=25 #MPa\n",
    "gamma_c=1.5\n",
    "fcd=0.85*fck/gamma_c #MPa\n",
    "eps_cc=-0.0020\n",
    "eps_cu=-0.0035\n",
    "\n",
    "#steel\n",
    "fyk=450 #MPa\n",
    "gamma_s=1.15\n",
    "fyd=fyk/gamma_s #MPa\n",
    "Es=200000 #MPa\n",
    "eps_su=0.01\n",
    "eps_y=fyd/Es"
   ]
  },
  {
   "cell_type": "markdown",
   "metadata": {},
   "source": [
    "## Stress-strain relationships\n",
    "### Concrete:"
   ]
  },
  {
   "cell_type": "code",
   "execution_count": 4,
   "metadata": {},
   "outputs": [],
   "source": [
    "def rel_c(eps):\n",
    "    n=len(eps)\n",
    "    sig=np.zeros(n)\n",
    "    for i in range(n):\n",
    "        if eps[i]>=0:\n",
    "            sig[i]=0\n",
    "        elif 0>eps[i] and eps[i]>=eps_cc:\n",
    "            sig[i]=-fcd*(2-eps[i]/eps_cc)*eps[i]/eps_cc\n",
    "        elif eps_cc>eps[i] and eps[i]>=eps_cu:\n",
    "            sig[i]=-fcd\n",
    "        else:\n",
    "            print('invalid eps value')\n",
    "    return(sig)"
   ]
  },
  {
   "cell_type": "markdown",
   "metadata": {},
   "source": [
    "### Steel:"
   ]
  },
  {
   "cell_type": "code",
   "execution_count": 5,
   "metadata": {},
   "outputs": [],
   "source": [
    "def rel_s(eps):\n",
    "    n=len(eps)\n",
    "    sig=np.zeros(n)\n",
    "    for i in range(n):\n",
    "        if -eps_su<=eps[i] and eps[i]<=-eps_y:\n",
    "            sig[i]=-fyd\n",
    "        elif -eps_y<eps[i] and eps[i]<=eps_y:\n",
    "            sig[i]=eps[i]*Es\n",
    "        elif eps_y<eps[i] and eps[i]<=eps_su:\n",
    "            sig[i]=fyd\n",
    "        else:\n",
    "            print('invalid eps value')\n",
    "    return(sig)"
   ]
  },
  {
   "cell_type": "markdown",
   "metadata": {},
   "source": [
    "## Domain 1"
   ]
  },
  {
   "cell_type": "code",
   "execution_count": 6,
   "metadata": {},
   "outputs": [],
   "source": [
    "n_step=20\n",
    "\n",
    "yn_sup=-9999\n",
    "yn_inf=0\n",
    "yn=np.linspace(yn_sup, yn_inf, n_step)\n",
    "psi=eps_su/(d-yn)\n",
    "eps_s1=np.full(n_step, eps_su)\n",
    "eps_s2=-psi*(yn-c)\n",
    "sig_s1=rel_s(eps_s1)\n",
    "sig_s2=rel_s(eps_s2)\n",
    "\n",
    "Nrd_1=As1*sig_s1+As2*sig_s2\n",
    "Mrd_1=As1*sig_s1*(a/2-c)-As2*sig_s2*(a/2-c)"
   ]
  },
  {
   "cell_type": "markdown",
   "metadata": {},
   "source": [
    "## Campo 2"
   ]
  },
  {
   "cell_type": "code",
   "execution_count": 7,
   "metadata": {},
   "outputs": [
    {
     "name": "stderr",
     "output_type": "stream",
     "text": [
      "/home/vctr/anaconda3/lib/python3.7/site-packages/ipykernel_launcher.py:18: RuntimeWarning: invalid value encountered in double_scalars\n"
     ]
    }
   ],
   "source": [
    "yn_sup=0\n",
    "yn_inf=-d*eps_cu/(eps_su-eps_cu)\n",
    "yn=np.linspace(yn_sup, yn_inf, n_step)\n",
    "psi=eps_su/(d-yn)\n",
    "eps_s1=np.full(n_step, eps_su)\n",
    "eps_s2=-psi*(yn-c)\n",
    "sig_s1=rel_s(eps_s1)\n",
    "sig_s2=rel_s(eps_s2)\n",
    "\n",
    "Nc=np.zeros(n_step)\n",
    "Mc=np.zeros(n_step)\n",
    "for i in range(n_step):\n",
    "    y=np.linspace(0, yn[i], 10)\n",
    "    eps_c=-(yn[i]-y)*psi[i]\n",
    "    eps_c=np.round(eps_c, 7)\n",
    "    sig_c=rel_c(eps_c)\n",
    "    Nc[i]=b*np.trapz(sig_c, y)\n",
    "    ygc=np.nan_to_num(np.trapz(sig_c*y, y)/np.trapz(sig_c, y))\n",
    "    Mc[i]=Nc[i]*(a/2-ygc)\n",
    "\n",
    "Nrd_2=Nc+As1*sig_s1+As2*sig_s2\n",
    "Mrd_2=-Mc+As1*sig_s1*(a/2-c)-As2*sig_s2*(a/2-c)"
   ]
  },
  {
   "cell_type": "markdown",
   "metadata": {},
   "source": [
    "## Campo 3"
   ]
  },
  {
   "cell_type": "code",
   "execution_count": 8,
   "metadata": {},
   "outputs": [],
   "source": [
    "yn_sup=-d*eps_cu/(eps_su-eps_cu)\n",
    "yn_inf=-d*eps_cu/(eps_y-eps_cu)\n",
    "yn=np.linspace(yn_sup, yn_inf, n_step)\n",
    "psi=-eps_cu/yn\n",
    "eps_s1=-psi*(yn-d)\n",
    "eps_s2=-psi*(yn-c)\n",
    "eps_s1=np.round(eps_s1, 5)\n",
    "eps_s2=np.round(eps_s2, 5)\n",
    "sig_s1=rel_s(eps_s1)\n",
    "sig_s2=rel_s(eps_s2)\n",
    "\n",
    "Nc=np.zeros(n_step)\n",
    "Mc=np.zeros(n_step)\n",
    "for i in range(n_step):\n",
    "    y=np.linspace(0, yn[i], 10)\n",
    "    eps_c=-(yn[i]-y)*psi[i]\n",
    "    eps_c=np.round(eps_c, 7)\n",
    "    sig_c=rel_c(eps_c)\n",
    "    Nc[i]=b*np.trapz(sig_c, y)\n",
    "    ygc=np.trapz(sig_c*y, y)/np.trapz(sig_c, y)\n",
    "    Mc[i]=Nc[i]*(a/2-ygc)\n",
    "    \n",
    "Nrd_3=Nc+As1*sig_s1+As2*sig_s2\n",
    "Mrd_3=-Mc+As1*sig_s1*(a/2-c)-As2*sig_s2*(a/2-c)"
   ]
  },
  {
   "cell_type": "markdown",
   "metadata": {},
   "source": [
    "## Campo 4"
   ]
  },
  {
   "cell_type": "code",
   "execution_count": 9,
   "metadata": {},
   "outputs": [],
   "source": [
    "yn_sup=-d*eps_cu/(eps_y-eps_cu)\n",
    "yn_inf=a\n",
    "yn=np.linspace(yn_sup, yn_inf, n_step)\n",
    "psi=-eps_cu/yn\n",
    "eps_s1=-psi*(yn-d)\n",
    "eps_s2=-psi*(yn-c)\n",
    "sig_s1=rel_s(eps_s1)\n",
    "sig_s2=rel_s(eps_s2)\n",
    "\n",
    "Nc=np.zeros(n_step)\n",
    "Mc=np.zeros(n_step)\n",
    "for i in range(n_step):\n",
    "    y=np.linspace(0, yn[i], 10)\n",
    "    eps_c=-(yn[i]-y)*psi[i]\n",
    "    eps_c=np.round(eps_c, 7)\n",
    "    sig_c=rel_c(eps_c)\n",
    "    Nc[i]=b*np.trapz(sig_c, y)\n",
    "    ygc=np.trapz(sig_c*y, y)/np.trapz(sig_c, y)\n",
    "    Mc[i]=Nc[i]*(a/2-ygc)\n",
    "    \n",
    "Nrd_4=Nc+As1*sig_s1+As2*sig_s2\n",
    "Mrd_4=-Mc+As1*sig_s1*(a/2-c)-As2*sig_s2*(a/2-c)"
   ]
  },
  {
   "cell_type": "markdown",
   "metadata": {},
   "source": [
    "## Campo 5"
   ]
  },
  {
   "cell_type": "code",
   "execution_count": 10,
   "metadata": {},
   "outputs": [],
   "source": [
    "yn_sup=a\n",
    "yn_inf=a+9999\n",
    "yn=np.linspace(yn_sup, yn_inf, n_step)\n",
    "t=3/7*a\n",
    "psi=-eps_cc/(yn-t)\n",
    "eps_s1=-psi*(yn-d)\n",
    "eps_s2=-psi*(yn-c)\n",
    "sig_s1=rel_s(eps_s1)\n",
    "sig_s2=rel_s(eps_s2)\n",
    "\n",
    "Nc=np.zeros(n_step)\n",
    "Mc=np.zeros(n_step)\n",
    "for i in range(n_step):\n",
    "    y=np.linspace(0, a, 10)\n",
    "    eps_c=-(yn[i]-y)*psi[i]\n",
    "    eps_c=np.round(eps_c, 7)\n",
    "    sig_c=rel_c(eps_c)\n",
    "    Nc[i]=b*np.trapz(sig_c, y)\n",
    "    ygc=np.trapz(sig_c*y, y)/np.trapz(sig_c, y)\n",
    "    Mc[i]=Nc[i]*(a/2-ygc)\n",
    "    \n",
    "Nrd_5=Nc+As1*sig_s1+As2*sig_s2\n",
    "Mrd_5=-Mc+As1*sig_s1*(a/2-c)-As2*sig_s2*(a/2-c)"
   ]
  },
  {
   "cell_type": "code",
   "execution_count": 11,
   "metadata": {},
   "outputs": [
    {
     "data": {
      "text/plain": [
       "Text(0, 0.5, 'M [KNm]')"
      ]
     },
     "execution_count": 11,
     "metadata": {},
     "output_type": "execute_result"
    },
    {
     "data": {
      "image/png": "[encoded data removed]",
      "text/plain": [
       "<Figure size 432x288 with 1 Axes>"
      ]
     },
     "metadata": {},
     "output_type": "display_data"
    }
   ],
   "source": [
    "plt.style.use(\"seaborn-whitegrid\")\n",
    "fig, ax=plt.subplots(figsize=(6,4))\n",
    "ax.plot(Nrd_1*1E-3, Mrd_1*1E-6)\n",
    "ax.plot(Nrd_2*1E-3, Mrd_2*1E-6)\n",
    "ax.plot(Nrd_3*1E-3, Mrd_3*1E-6)\n",
    "ax.plot(Nrd_4*1E-3, Mrd_4*1E-6)\n",
    "ax.plot(Nrd_5*1E-3, Mrd_5*1E-6)\n",
    "ax.set_xlabel(\"N [KN]\")\n",
    "ax.set_ylabel(\"M [KNm]\")"
   ]
  },
  {
   "cell_type": "markdown",
   "metadata": {},
   "source": []
  },
  {
   "cell_type": "code",
   "execution_count": 12,
   "metadata": {},
   "outputs": [
    {
     "data": {
      "text/plain": [
       "[<matplotlib.lines.Line2D at 0x7f7c9eb46c18>]"
      ]
     },
     "execution_count": 12,
     "metadata": {},
     "output_type": "execute_result"
    },
    {
     "data": {
      "image/png": "[encoded data removed]",
      "text/plain": [
       "<Figure size 432x288 with 1 Axes>"
      ]
     },
     "metadata": {},
     "output_type": "display_data"
    }
   ],
   "source": [
    "Mrd=np.hstack((Mrd_1*1E-6,Mrd_2*1E-6, Mrd_3*1E-6,\n",
    "               Mrd_4*1E-6, Mrd_5*1E-6))\n",
    "Nrd=np.hstack((Nrd_1*1E-6,Nrd_2*1E-6, Nrd_3*1E-6,\n",
    "               Nrd_4*1E-6, Nrd_5*1E-6))\n",
    "fig, ax=plt.subplots(figsize=(6,4))\n",
    "ax.plot(Nrd, Mrd)\n"
   ]
  }
 ],
 "metadata": {
  "kernelspec": {
   "display_name": "Python 3",
   "language": "python",
   "name": "python3"
  },
  "language_info": {
   "codemirror_mode": {
    "name": "ipython",
    "version": 3
   },
   "file_extension": ".py",
   "mimetype": "text/x-python",
   "name": "python",
   "nbconvert_exporter": "python",
   "pygments_lexer": "ipython3",
   "version": "3.7.3"
  },
  "latex_envs": {
   "LaTeX_envs_menu_present": true,
   "autoclose": false,
   "autocomplete": true,
   "bibliofile": "biblio.bib",
   "cite_by": "apalike",
   "current_citInitial": 1,
   "eqLabelWithNumbers": true,
   "eqNumInitial": 1,
   "hotkeys": {
    "equation": "Ctrl-E",
    "itemize": "Ctrl-I"
   },
   "labels_anchors": false,
   "latex_user_defs": false,
   "report_style_numbering": false,
   "user_envs_cfg": false
  }
 },
 "nbformat": 4,
 "nbformat_minor": 2
}
