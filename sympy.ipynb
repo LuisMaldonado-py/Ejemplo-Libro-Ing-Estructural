{
 "cells": [
  {
   "cell_type": "code",
   "execution_count": 1,
   "metadata": {},
   "outputs": [
    {
     "data": {
      "text/latex": [
       "$\\displaystyle \\sqrt{3} + 2$"
      ],
      "text/plain": [
       "√3 + 2"
      ]
     },
     "metadata": {},
     "output_type": "display_data"
    },
    {
     "data": {
      "text/latex": [
       "$\\displaystyle 4 \\sqrt{2}$"
      ],
      "text/plain": [
       "4⋅√2"
      ]
     },
     "metadata": {},
     "output_type": "display_data"
    }
   ],
   "source": [
    "import sympy as sp\n",
    "sp.init_printing(use_latex=\"mathjax\")\n",
    "display(2+sp.sqrt(3))\n",
    "display(sp.sqrt(32))"
   ]
  },
  {
   "cell_type": "code",
   "execution_count": 2,
   "metadata": {},
   "outputs": [
    {
     "data": {
      "text/latex": [
       "$\\displaystyle a + b$"
      ],
      "text/plain": [
       "a + b"
      ]
     },
     "metadata": {},
     "output_type": "display_data"
    },
    {
     "data": {
      "text/latex": [
       "$\\displaystyle \\left(a + b\\right)^{2}$"
      ],
      "text/plain": [
       "       2\n",
       "(a + b) "
      ]
     },
     "metadata": {},
     "output_type": "display_data"
    }
   ],
   "source": [
    "a, b=sp.symbols(\"a b\")\n",
    "expr1=a+b\n",
    "expr2=expr1**2\n",
    "display(expr1)\n",
    "display(expr2)"
   ]
  },
  {
   "cell_type": "code",
   "execution_count": 3,
   "metadata": {},
   "outputs": [
    {
     "data": {
      "text/latex": [
       "$\\displaystyle x^{2} + \\frac{x y}{3} + y^{2}$"
      ],
      "text/plain": [
       " 2   x⋅y    2\n",
       "x  + ─── + y \n",
       "      3      "
      ]
     },
     "metadata": {},
     "output_type": "display_data"
    },
    {
     "data": {
      "text/latex": [
       "$\\displaystyle y^{2} + \\frac{y}{3} + 1$"
      ],
      "text/plain": [
       " 2   y    \n",
       "y  + ─ + 1\n",
       "     3    "
      ]
     },
     "metadata": {},
     "output_type": "display_data"
    },
    {
     "data": {
      "text/latex": [
       "$\\displaystyle \\frac{83}{3}$"
      ],
      "text/plain": [
       "83/3"
      ]
     },
     "metadata": {},
     "output_type": "display_data"
    },
    {
     "data": {
      "text/latex": [
       "$\\displaystyle 27.667$"
      ],
      "text/plain": [
       "27.667"
      ]
     },
     "metadata": {},
     "output_type": "display_data"
    }
   ],
   "source": [
    "x, y=sp.symbols(\"x y\")\n",
    "f=x**2+y**2+sp.Rational(1,3)*x*y\n",
    "display(f)\n",
    "res1=f.subs(x,1)\n",
    "display(res1)\n",
    "res2=f.subs([(x,1), (y,5)])\n",
    "display(res2)\n",
    "display(res2.evalf(5))"
   ]
  },
  {
   "cell_type": "code",
   "execution_count": 4,
   "metadata": {},
   "outputs": [
    {
     "data": {
      "text/latex": [
       "$\\displaystyle x^{2} + \\frac{x}{2} - 5$"
      ],
      "text/plain": [
       " 2   x    \n",
       "x  + ─ - 5\n",
       "     2    "
      ]
     },
     "metadata": {},
     "output_type": "display_data"
    },
    {
     "data": {
      "text/latex": [
       "$\\displaystyle 2 x + \\frac{1}{2}$"
      ],
      "text/plain": [
       "2⋅x + 1/2"
      ]
     },
     "metadata": {},
     "output_type": "display_data"
    },
    {
     "data": {
      "text/latex": [
       "$\\displaystyle \\frac{x^{3}}{3} + \\frac{x^{2}}{4} - 5 x$"
      ],
      "text/plain": [
       " 3    2      \n",
       "x    x       \n",
       "── + ── - 5⋅x\n",
       "3    4       "
      ]
     },
     "metadata": {},
     "output_type": "display_data"
    },
    {
     "data": {
      "text/latex": [
       "$\\displaystyle - \\frac{15}{4}$"
      ],
      "text/plain": [
       "-15/4"
      ]
     },
     "metadata": {},
     "output_type": "display_data"
    }
   ],
   "source": [
    "x=sp.symbols(\"x\")\n",
    "expr=x**2+sp.Rational(1,2)*x-5\n",
    "display(expr)\n",
    "derivative=sp.diff(expr,x)\n",
    "display(derivative)\n",
    "integral1=sp.integrate(expr,x)\n",
    "display(integral1)\n",
    "integral2=sp.integrate(expr,(x, 0, 3))\n",
    "display(integral2)"
   ]
  },
  {
   "cell_type": "code",
   "execution_count": 5,
   "metadata": {},
   "outputs": [
    {
     "data": {
      "text/latex": [
       "$\\displaystyle x^{2} - 4 = 0$"
      ],
      "text/plain": [
       " 2        \n",
       "x  - 4 = 0"
      ]
     },
     "metadata": {},
     "output_type": "display_data"
    },
    {
     "data": {
      "text/latex": [
       "$\\displaystyle \\left\\{-2, 2\\right\\}$"
      ],
      "text/plain": [
       "{-2, 2}"
      ]
     },
     "execution_count": 5,
     "metadata": {},
     "output_type": "execute_result"
    }
   ],
   "source": [
    "x=sp.symbols(\"x\")\n",
    "my_eq=sp.Eq(x**2-4,0)\n",
    "display(my_eq)\n",
    "sp.solveset(my_eq,x)"
   ]
  },
  {
   "cell_type": "code",
   "execution_count": 6,
   "metadata": {},
   "outputs": [
    {
     "data": {
      "text/latex": [
       "$\\displaystyle \\left\\{2 n \\pi + \\frac{\\pi}{2}\\; |\\; n \\in \\mathbb{Z}\\right\\} \\cup \\left\\{2 n \\pi + \\frac{3 \\pi}{2}\\; |\\; n \\in \\mathbb{Z}\\right\\}$"
      ],
      "text/plain": [
       "⎧        π        ⎫   ⎧        3⋅π        ⎫\n",
       "⎨2⋅n⋅π + ─ | n ∊ ℤ⎬ ∪ ⎨2⋅n⋅π + ─── | n ∊ ℤ⎬\n",
       "⎩        2        ⎭   ⎩         2         ⎭"
      ]
     },
     "metadata": {},
     "output_type": "display_data"
    },
    {
     "data": {
      "text/latex": [
       "$\\displaystyle \\left\\{- \\frac{15}{2}\\right\\}$"
      ],
      "text/plain": [
       "{-15/2}"
      ]
     },
     "metadata": {},
     "output_type": "display_data"
    },
    {
     "data": {
      "text/latex": [
       "$\\displaystyle - \\frac{15}{2}$"
      ],
      "text/plain": [
       "-15/2"
      ]
     },
     "metadata": {},
     "output_type": "display_data"
    }
   ],
   "source": [
    "x=sp.symbols(\"x\")\n",
    "res1=sp.solveset(sp.cos(x)*2, x)\n",
    "display(res1)\n",
    "\n",
    "res2=sp.solveset(sp.Rational(2,5)*x+3, x)\n",
    "display(res2)\n",
    "display(res2.args[0])"
   ]
  },
  {
   "cell_type": "code",
   "execution_count": 7,
   "metadata": {},
   "outputs": [
    {
     "data": {
      "text/latex": [
       "$\\displaystyle \\left( \\frac{13}{2}, \\  - \\frac{5}{2}\\right)$"
      ],
      "text/plain": [
       "(13/2, -5/2)"
      ]
     },
     "metadata": {},
     "output_type": "display_data"
    },
    {
     "data": {
      "text/latex": [
       "$\\displaystyle \\left\\{\\left( - \\frac{9}{8} + \\frac{\\sqrt{193}}{8}, \\  \\frac{67}{16} - \\frac{3 \\sqrt{193}}{16}\\right), \\left( - \\frac{\\sqrt{193}}{8} - \\frac{9}{8}, \\  \\frac{3 \\sqrt{193}}{16} + \\frac{67}{16}\\right)\\right\\}$"
      ],
      "text/plain": [
       "⎧⎛  9   √193  67   3⋅√193⎞  ⎛  √193   9  3⋅√193   67⎞⎫\n",
       "⎨⎜- ─ + ────, ── - ──────⎟, ⎜- ──── - ─, ────── + ──⎟⎬\n",
       "⎩⎝  8    8    16     16  ⎠  ⎝   8     8    16     16⎠⎭"
      ]
     },
     "metadata": {},
     "output_type": "display_data"
    }
   ],
   "source": [
    "x, y=sp.symbols(\"x y\")\n",
    "res1=sp.linsolve([x+y-4, x-y-9], (x,y))\n",
    "display(res1.args[0])\n",
    "\n",
    "res2=sp.nonlinsolve([2*x**2+3*x-y-1, 3*x+2*y-5],(x,y))\n",
    "display(res2)"
   ]
  }
 ],
 "metadata": {
  "kernelspec": {
   "display_name": "Python 3",
   "language": "python",
   "name": "python3"
  },
  "language_info": {
   "codemirror_mode": {
    "name": "ipython",
    "version": 3
   },
   "file_extension": ".py",
   "mimetype": "text/x-python",
   "name": "python",
   "nbconvert_exporter": "python",
   "pygments_lexer": "ipython3",
   "version": "3.7.3"
  },
  "latex_envs": {
   "LaTeX_envs_menu_present": true,
   "autoclose": false,
   "autocomplete": true,
   "bibliofile": "biblio.bib",
   "cite_by": "apalike",
   "current_citInitial": 1,
   "eqLabelWithNumbers": true,
   "eqNumInitial": 1,
   "hotkeys": {
    "equation": "Ctrl-E",
    "itemize": "Ctrl-I"
   },
   "labels_anchors": false,
   "latex_user_defs": false,
   "report_style_numbering": false,
   "user_envs_cfg": false
  },
  "toc": {
   "base_numbering": 1,
   "nav_menu": {},
   "number_sections": true,
   "sideBar": true,
   "skip_h1_title": false,
   "title_cell": "Table of Contents",
   "title_sidebar": "Contents",
   "toc_cell": false,
   "toc_position": {},
   "toc_section_display": true,
   "toc_window_display": false
  },
  "varInspector": {
   "cols": {
    "lenName": 16,
    "lenType": 16,
    "lenVar": 40
   },
   "kernels_config": {
    "python": {
     "delete_cmd_postfix": "",
     "delete_cmd_prefix": "del ",
     "library": "var_list.py",
     "varRefreshCmd": "print(var_dic_list())"
    },
    "r": {
     "delete_cmd_postfix": ") ",
     "delete_cmd_prefix": "rm(",
     "library": "var_list.r",
     "varRefreshCmd": "cat(var_dic_list()) "
    }
   },
   "types_to_exclude": [
    "module",
    "function",
    "builtin_function_or_method",
    "instance",
    "_Feature"
   ],
   "window_display": false
  }
 },
 "nbformat": 4,
 "nbformat_minor": 2
}
