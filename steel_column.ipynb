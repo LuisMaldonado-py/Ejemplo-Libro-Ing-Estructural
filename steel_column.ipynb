{
 "cells": [
  {
   "cell_type": "code",
   "execution_count": 1,
   "metadata": {},
   "outputs": [],
   "source": [
    "import numpy as np\n",
    "import pandas as pd"
   ]
  },
  {
   "cell_type": "markdown",
   "metadata": {},
   "source": [
    "## Loads"
   ]
  },
  {
   "cell_type": "code",
   "execution_count": 2,
   "metadata": {},
   "outputs": [
    {
     "data": {
      "text/html": [
       "<div>\n",
       "<style scoped>\n",
       "    .dataframe tbody tr th:only-of-type {\n",
       "        vertical-align: middle;\n",
       "    }\n",
       "\n",
       "    .dataframe tbody tr th {\n",
       "        vertical-align: top;\n",
       "    }\n",
       "\n",
       "    .dataframe thead th {\n",
       "        text-align: right;\n",
       "    }\n",
       "</style>\n",
       "<table border=\"1\" class=\"dataframe\">\n",
       "  <thead>\n",
       "    <tr style=\"text-align: right;\">\n",
       "      <th></th>\n",
       "      <th>Ned</th>\n",
       "      <th>Hed</th>\n",
       "      <th>Med</th>\n",
       "    </tr>\n",
       "  </thead>\n",
       "  <tbody>\n",
       "    <tr>\n",
       "      <th>Combo1</th>\n",
       "      <td>300</td>\n",
       "      <td>30</td>\n",
       "      <td>225.0</td>\n",
       "    </tr>\n",
       "    <tr>\n",
       "      <th>Combo2</th>\n",
       "      <td>500</td>\n",
       "      <td>10</td>\n",
       "      <td>75.0</td>\n",
       "    </tr>\n",
       "    <tr>\n",
       "      <th>Combo3</th>\n",
       "      <td>250</td>\n",
       "      <td>40</td>\n",
       "      <td>300.0</td>\n",
       "    </tr>\n",
       "  </tbody>\n",
       "</table>\n",
       "</div>"
      ],
      "text/plain": [
       "        Ned  Hed    Med\n",
       "Combo1  300   30  225.0\n",
       "Combo2  500   10   75.0\n",
       "Combo3  250   40  300.0"
      ]
     },
     "execution_count": 2,
     "metadata": {},
     "output_type": "execute_result"
    }
   ],
   "source": [
    "L=7.5*10**3 #mm\n",
    "combo1=pd.Series({\"Ned\":300, \"Hed\":30}, name=\"Combo1\")\n",
    "combo2=pd.Series({\"Ned\":500, \"Hed\":10}, name=\"Combo2\")\n",
    "combo3=pd.Series({\"Ned\":250, \"Hed\":40}, name=\"Combo3\")\n",
    "\n",
    "loads=pd.DataFrame([combo1, combo2, combo3])\n",
    "loads[\"Med\"]=loads.Hed*L*10**(-3)\n",
    "loads"
   ]
  },
  {
   "cell_type": "markdown",
   "metadata": {},
   "source": [
    "## Materials"
   ]
  },
  {
   "cell_type": "code",
   "execution_count": 3,
   "metadata": {},
   "outputs": [],
   "source": [
    "fyk=355 #N/mm^2\n",
    "E=200000 #Mpa\n",
    "G = 81000 #N/mm^2"
   ]
  },
  {
   "cell_type": "markdown",
   "metadata": {},
   "source": [
    "## Cross-section"
   ]
  },
  {
   "cell_type": "code",
   "execution_count": 4,
   "metadata": {},
   "outputs": [],
   "source": [
    "# HE300B\n",
    "h=300 #mm (section height)\n",
    "b=300 #mm (section width)\n",
    "tw=11 #mm (web width)\n",
    "tf=19 #mm (flange width)\n",
    "A=161.3*10**2 #mm^2 (total area)\n",
    "Iy=25170*10**4 #mm^4 (second moment of area, y axis)\n",
    "iy=13*10 #mm (radius of gyration, y axis)\n",
    "Wy=1678*10**3 #mm^3 (elastic section modulus, y axis)\n",
    "\n",
    "Iz=8563*10**4 #mm^4 (second moment of area, z axis)\n",
    "iz=7.58*10 #mm (radius of gyration, z axis)\n",
    "Wz=570.9*10**3 #mm^3 (elastic section modulus, z axis)\n",
    "\n",
    "It=185*10**4 #mm^4 (torsional constant)\n",
    "Iw=(Iz*(h-tf)**2)/4 #mm^6 (warping constant)"
   ]
  },
  {
   "cell_type": "markdown",
   "metadata": {},
   "source": [
    "## Buckling"
   ]
  },
  {
   "cell_type": "code",
   "execution_count": 5,
   "metadata": {},
   "outputs": [
    {
     "name": "stdout",
     "output_type": "stream",
     "text": [
      "1.0\n"
     ]
    }
   ],
   "source": [
    "#buckling curve:\n",
    "print(h/b)"
   ]
  },
  {
   "cell_type": "code",
   "execution_count": 6,
   "metadata": {},
   "outputs": [
    {
     "name": "stdout",
     "output_type": "stream",
     "text": [
      "epsilon= 1.00\n",
      "lambda_1= 74.57\n"
     ]
    }
   ],
   "source": [
    "epsilon = np.sqrt(355/fyk)\n",
    "lambda_1 = np.pi*np.sqrt(E/fyk)\n",
    "print(\"epsilon= %.2f\"%(epsilon))\n",
    "print(\"lambda_1= %.2f\"%(lambda_1))"
   ]
  },
  {
   "cell_type": "code",
   "execution_count": 7,
   "metadata": {},
   "outputs": [
    {
     "name": "stdout",
     "output_type": "stream",
     "text": [
      "alpha_y= 0.21\n",
      "Lcr_y= 15000.00\n",
      "lambda_y= 1.55\n",
      "phi_y= 1.84\n",
      "chi_y= 0.3531319\n"
     ]
    }
   ],
   "source": [
    "alpha_y = 0.21\n",
    "Lcr_y = 2*L\n",
    "lambda_y = (Lcr_y/iy)*(1/lambda_1)\n",
    "phi_y = 0.5*(1+alpha_y*(lambda_y-0.2)+lambda_y**2)\n",
    "chi_y = 1/(phi_y+np.sqrt(phi_y**2-lambda_y**2))\n",
    "print(\"alpha_y= %.2f\"%(alpha_y))\n",
    "print(\"Lcr_y= %.2f\"%(Lcr_y))\n",
    "print(\"lambda_y= %.2f\"%(lambda_y))\n",
    "print(\"phi_y= %.2f\"%(phi_y))\n",
    "print(\"chi_y= %.7f\"%(chi_y))"
   ]
  },
  {
   "cell_type": "code",
   "execution_count": 8,
   "metadata": {},
   "outputs": [
    {
     "name": "stdout",
     "output_type": "stream",
     "text": [
      "Mcr= 2696.44\n",
      "lambda_lt= 0.47\n",
      "phi_lt= 0.59\n",
      "chi_lt= 0.97\n"
     ]
    }
   ],
   "source": [
    "k=0.7\n",
    "kw=0.7\n",
    "C1 = 2.092\n",
    "alpha_lt = 0.34\n",
    "lambda_lt_0 = 0.4\n",
    "beta = 0.75\n",
    "\n",
    "Mcr = C1*np.pi**2*E*Iz/((k*L)**2)*np.sqrt((k/kw)*Iw/(Iz)\\\n",
    "                    +(k*L)**2*G*It/(np.pi**2*E*Iz))*1e-6\n",
    "\n",
    "lambda_lt = np.sqrt(Wy*fyk/(Mcr*1e6))\n",
    "phi_lt = 0.5*(1+alpha_lt*(lambda_lt-lambda_lt_0)+beta*lambda_lt**2)\n",
    "chi_lt = 1/(phi_lt+np.sqrt(phi_lt**2-beta*lambda_lt**2))\n",
    "\n",
    "print(\"Mcr= %.2f\"%(Mcr))\n",
    "print(\"lambda_lt= %.2f\"%(lambda_lt))\n",
    "print(\"phi_lt= %.2f\"%(phi_lt))\n",
    "print(\"chi_lt= %.2f\"%(chi_lt))"
   ]
  },
  {
   "cell_type": "code",
   "execution_count": 9,
   "metadata": {},
   "outputs": [
    {
     "name": "stdout",
     "output_type": "stream",
     "text": [
      "kyy= 1.08\n",
      "kzz= 1.44\n",
      "kyz= 0.86\n",
      "kzy= 1.00\n"
     ]
    }
   ],
   "source": [
    "Cmy = 0.6\n",
    "Cmz = 0.6\n",
    "\n",
    "kyy = Cmy*1.8\n",
    "kzz = Cmz*2.4\n",
    "kyz = 0.6*kzz\n",
    "kzy=1\n",
    "\n",
    "print(\"kyy= %.2f\"%(kyy))\n",
    "print(\"kzz= %.2f\"%(kzz))\n",
    "print(\"kyz= %.2f\"%(kyz))\n",
    "print(\"kzy= %.2f\"%(kzy))"
   ]
  },
  {
   "cell_type": "code",
   "execution_count": 10,
   "metadata": {},
   "outputs": [
    {
     "name": "stdout",
     "output_type": "stream",
     "text": [
      "Nrk= 5726.15\n",
      "Mrk_y= 595.69\n"
     ]
    }
   ],
   "source": [
    "Nrk = A*fyk*0.001   # kN\n",
    "Mrk_y = Wy*fyk*1e-6  # kNm\n",
    "\n",
    "print(\"Nrk= %.2f\"%(Nrk))\n",
    "print(\"Mrk_y= %.2f\"%(Mrk_y))"
   ]
  },
  {
   "cell_type": "code",
   "execution_count": 11,
   "metadata": {},
   "outputs": [
    {
     "data": {
      "text/html": [
       "<div>\n",
       "<style scoped>\n",
       "    .dataframe tbody tr th:only-of-type {\n",
       "        vertical-align: middle;\n",
       "    }\n",
       "\n",
       "    .dataframe tbody tr th {\n",
       "        vertical-align: top;\n",
       "    }\n",
       "\n",
       "    .dataframe thead th {\n",
       "        text-align: right;\n",
       "    }\n",
       "</style>\n",
       "<table border=\"1\" class=\"dataframe\">\n",
       "  <thead>\n",
       "    <tr style=\"text-align: right;\">\n",
       "      <th></th>\n",
       "      <th>check1</th>\n",
       "      <th>check2</th>\n",
       "    </tr>\n",
       "  </thead>\n",
       "  <tbody>\n",
       "    <tr>\n",
       "      <th>Combo1</th>\n",
       "      <td>0.596262</td>\n",
       "      <td>0.563633</td>\n",
       "    </tr>\n",
       "    <tr>\n",
       "      <th>Combo2</th>\n",
       "      <td>0.406460</td>\n",
       "      <td>0.395584</td>\n",
       "    </tr>\n",
       "    <tr>\n",
       "      <th>Combo3</th>\n",
       "      <td>0.717126</td>\n",
       "      <td>0.673621</td>\n",
       "    </tr>\n",
       "  </tbody>\n",
       "</table>\n",
       "</div>"
      ],
      "text/plain": [
       "          check1    check2\n",
       "Combo1  0.596262  0.563633\n",
       "Combo2  0.406460  0.395584\n",
       "Combo3  0.717126  0.673621"
      ]
     },
     "execution_count": 11,
     "metadata": {},
     "output_type": "execute_result"
    }
   ],
   "source": [
    "gamma_m1 = 1.05\n",
    "results=pd.DataFrame()\n",
    "results[\"check1\"] = loads.Ned/(chi_y*Nrk/gamma_m1)\\\n",
    "            +kyy*(loads.Med)/(chi_lt*Mrk_y/gamma_m1)\n",
    "results[\"check2\"] = loads.Ned/(chi_y*Nrk/gamma_m1)\\\n",
    "            +kzy*(loads.Med)/(chi_lt*Mrk_y/gamma_m1)\n",
    "results"
   ]
  }
 ],
 "metadata": {
  "kernelspec": {
   "display_name": "Python 3",
   "language": "python",
   "name": "python3"
  },
  "language_info": {
   "codemirror_mode": {
    "name": "ipython",
    "version": 3
   },
   "file_extension": ".py",
   "mimetype": "text/x-python",
   "name": "python",
   "nbconvert_exporter": "python",
   "pygments_lexer": "ipython3",
   "version": "3.7.3"
  },
  "latex_envs": {
   "LaTeX_envs_menu_present": true,
   "autoclose": false,
   "autocomplete": true,
   "bibliofile": "biblio.bib",
   "cite_by": "apalike",
   "current_citInitial": 1,
   "eqLabelWithNumbers": true,
   "eqNumInitial": 1,
   "hotkeys": {
    "equation": "Ctrl-E",
    "itemize": "Ctrl-I"
   },
   "labels_anchors": false,
   "latex_user_defs": false,
   "report_style_numbering": false,
   "user_envs_cfg": false
  }
 },
 "nbformat": 4,
 "nbformat_minor": 2
}
